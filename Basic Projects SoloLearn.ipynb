{
 "cells": [
  {
   "cell_type": "markdown",
   "id": "8c3b18f7",
   "metadata": {},
   "source": [
    "# Python for Beginners"
   ]
  },
  {
   "cell_type": "markdown",
   "id": "3f165cfa",
   "metadata": {},
   "source": [
    "**Strings**\n",
    "Problem\n",
    "You need to make a program for a leaderboard.\n",
    "The program needs to output the numbers 1 to 9, each on a separate line, followed by a dot:\n",
    "\n",
    "You can use the \\n newline character to create line breaks, or, alternatively, create the desired output using three double quotes \"\"\"."
   ]
  },
  {
   "cell_type": "code",
   "execution_count": 1,
   "id": "8dc3e419",
   "metadata": {},
   "outputs": [
    {
     "name": "stdout",
     "output_type": "stream",
     "text": [
      "1.\n",
      "2.\n",
      "3.\n",
      "4.\n",
      "5.\n",
      "6.\n",
      "7.\n",
      "8.\n",
      "9.\n"
     ]
    }
   ],
   "source": [
    "print(\"\"\"1.\n",
    "2.\n",
    "3.\n",
    "4.\n",
    "5.\n",
    "6.\n",
    "7.\n",
    "8.\n",
    "9.\"\"\")"
   ]
  },
  {
   "cell_type": "markdown",
   "id": "6404c16c",
   "metadata": {},
   "source": [
    "**Variable**\n",
    "Tip Calculator\n",
    "\n",
    "When you go out to eat, you always tip 20% of the bill amount. But who’s got the time to calculate the right tip amount every time? Not you that’s for sure! You’re making a program to calculate tips and save some time.\n",
    "\n",
    "Your program needs to take the bill amount as input and output the tip as a float.\n",
    "\n",
    "Sample Input\n",
    "50\n",
    "\n",
    "Sample Output\n",
    "10.0\n",
    "\n",
    "Explanation: 20% of 50 is 10.\n",
    "To calculate 20% of a given amount, you can multiply the number by 20 and divide it by 100: 50*20/100 = 10.0"
   ]
  },
  {
   "cell_type": "code",
   "execution_count": 2,
   "id": "786113ce",
   "metadata": {},
   "outputs": [
    {
     "name": "stdout",
     "output_type": "stream",
     "text": [
      "50\n",
      "10.0\n"
     ]
    }
   ],
   "source": [
    "bill = int(input())\n",
    "#your code goes here\n",
    "print(bill * 20 / 100)"
   ]
  },
  {
   "cell_type": "markdown",
   "id": "14c17aae",
   "metadata": {},
   "source": [
    "**Control Flow**\n",
    "\n",
    "BMI Calculator\n",
    "\n",
    "Tracking your BMI is a useful way of checking if you’re maintaining a healthy weight. It’s calculated using a person's weight and height, using this formula: weight / height²\n",
    "\n",
    "The resulting number indicates one of the following categories:\n",
    "Underweight = less than 18.5\n",
    "Normal = more or equal to 18.5 and less than 25\n",
    "Overweight = more or equal to 25 and less than 30\n",
    "Obesity = 30 or more\n",
    "\n",
    "Let’s make finding out your BMI quicker and easier, by creating a program that takes a person's weight and height as input and outputs the corresponding BMI category.\n",
    "\n",
    "Sample Input\n",
    "85\n",
    "1.9\n",
    "\n",
    "Sample Output\n",
    "Normal\n",
    "\n",
    "Weight is in kg, height is in meters.\n",
    "Note, that height is a float."
   ]
  },
  {
   "cell_type": "code",
   "execution_count": 3,
   "id": "4b5f6106",
   "metadata": {},
   "outputs": [
    {
     "name": "stdout",
     "output_type": "stream",
     "text": [
      "41\n",
      "1.524\n",
      "Underweight\n"
     ]
    }
   ],
   "source": [
    "weight = int(input())\n",
    "height = float(input())\n",
    "bmi = weight / (height * height)\n",
    "if bmi < 18.5:\n",
    "    print(\"Underweight\")\n",
    "elif bmi >= 18.5 and bmi < 25:\n",
    "    print(\"Normal\")\n",
    "elif bmi >= 25 and bmi < 30:\n",
    "    print(\"Overweight\")\n",
    "else:\n",
    "    print(\"Obesity\")\n"
   ]
  },
  {
   "cell_type": "markdown",
   "id": "ede68b3e",
   "metadata": {},
   "source": [
    "**Lists**\n",
    "\n",
    "Sum of Consecutive Numbers\n",
    "\n",
    "No one likes homework, but your math teacher has given you an assignment to find the sum of the first N numbers.\n",
    "Let’s save some time by creating a program to do the calculation for you!\n",
    "Take a number N as input and output the sum of all numbers from 1 to N (including N).\n",
    "\n",
    "Sample Input\n",
    "100\n",
    "\n",
    "Sample Output\n",
    "5050\n",
    "\n",
    "Explanation: The sum of all numbers from 1 to 100 is equal to 5050.\n",
    "You can iterate over a range and calculate the sum of all numbers in the range.\n",
    "Remember, range(a, b) does not include b, thus you need to use b+1 to include b in the range."
   ]
  },
  {
   "cell_type": "code",
   "execution_count": 4,
   "id": "e526ab40",
   "metadata": {},
   "outputs": [
    {
     "name": "stdout",
     "output_type": "stream",
     "text": [
      "100\n",
      "5050\n"
     ]
    }
   ],
   "source": [
    "N = int(input())\n",
    "sum = 0\n",
    "for i in range(N + 1):\n",
    "  sum+=i\n",
    "print(sum)"
   ]
  },
  {
   "cell_type": "markdown",
   "id": "59b09011",
   "metadata": {},
   "source": [
    "**Functions**\n",
    "\n",
    "Search Engine\n",
    "\n",
    "You’re working on a search engine. Watch your back Google!\n",
    "The given code takes a text and a word as input and passes them to a function called search().\n",
    "\n",
    "The search() function should return \"Word found\" if the word is present in the text, or \"Word not found\", if it’s not.\n",
    "\n",
    "Sample Input\n",
    "\"This is awesome\"\n",
    "\"awesome\"\n",
    "\n",
    "Sample Output\n",
    "Word found\n",
    "\n",
    "Define the search() function, so that the given code works as expected."
   ]
  },
  {
   "cell_type": "code",
   "execution_count": 5,
   "id": "73e479a2",
   "metadata": {},
   "outputs": [
    {
     "name": "stdout",
     "output_type": "stream",
     "text": [
      "You are amazing Diana\n",
      "Diana\n",
      "Word found\n"
     ]
    }
   ],
   "source": [
    "def search(text, word):\n",
    "    if word in text:\n",
    "        return (\"Word found\")\n",
    "    else:\n",
    "        return (\"Word not found\")\n",
    "text = input()\n",
    "word = input()\n",
    "print(search(text, word))"
   ]
  },
  {
   "cell_type": "code",
   "execution_count": null,
   "id": "be7a1ef2",
   "metadata": {},
   "outputs": [],
   "source": []
  }
 ],
 "metadata": {
  "kernelspec": {
   "display_name": "Python 3 (ipykernel)",
   "language": "python",
   "name": "python3"
  },
  "language_info": {
   "codemirror_mode": {
    "name": "ipython",
    "version": 3
   },
   "file_extension": ".py",
   "mimetype": "text/x-python",
   "name": "python",
   "nbconvert_exporter": "python",
   "pygments_lexer": "ipython3",
   "version": "3.9.12"
  }
 },
 "nbformat": 4,
 "nbformat_minor": 5
}
